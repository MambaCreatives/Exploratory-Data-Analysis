{
 "cells": [
  {
   "cell_type": "code",
   "execution_count": 1,
   "id": "a43fdf2e-6508-4084-8619-c534e0d9028a",
   "metadata": {},
   "outputs": [
    {
     "name": "stdout",
     "output_type": "stream",
     "text": [
      "0     4\n",
      "1    20\n",
      "2     5\n",
      "3    67\n",
      "4    -3\n",
      "dtype: int64\n"
     ]
    }
   ],
   "source": [
    "import pandas as pd \n",
    "import numpy as np\n",
    "obj=pd.Series([4,20,5,67,-3])\n",
    "print(obj)\n",
    "print(obj.values)\n",
    "print(obj.index)"
   ]
  },
  {
   "cell_type": "code",
   "execution_count": 2,
   "id": "bcd0b01a-92b2-4490-99e2-1cf0a23e1f2c",
   "metadata": {},
   "outputs": [
    {
     "name": "stdout",
     "output_type": "stream",
     "text": [
      "5\n",
      "\n",
      "\n",
      "[ 4 20  5 67 -3]\n",
      "\n",
      "\n",
      "RangeIndex(start=0, stop=5, step=1)\n"
     ]
    }
   ],
   "source": [
    "obj2=pd.Series([5,7,690,-234])\n",
    "print(obj2[0])\n",
    "print('\\n')\n",
    "print(obj.values)\n",
    "print('\\n')\n",
    "print(obj.index)"
   ]
  },
  {
   "cell_type": "code",
   "execution_count": 3,
   "id": "2da028f0-79d6-49df-afad-2aac383a978d",
   "metadata": {},
   "outputs": [
    {
     "name": "stdout",
     "output_type": "stream",
     "text": [
      "Nairobi        10000\n",
      "Mombasa         5000\n",
      "Nakuru         15000\n",
      "Uasin Gishu    25000\n",
      "Homabay            0\n",
      "dtype: int64\n"
     ]
    }
   ],
   "source": [
    "Sdata={\"Nairobi\": 10000,\"Mombasa\": 5000 ,\"Nakuru\":15000 ,\"Uasin Gishu\":25000,\"Homabay\":0}\n",
    "obj3 = pd.Series(Sdata)\n",
    "print(obj3)"
   ]
  },
  {
   "cell_type": "code",
   "execution_count": 4,
   "id": "406b336a-b386-4dda-8144-8bb4b878c01f",
   "metadata": {},
   "outputs": [
    {
     "name": "stdout",
     "output_type": "stream",
     "text": [
      "0      Mamba\n",
      "1       Levi\n",
      "2      Alvin\n",
      "3    Ten Hag\n",
      "4      Onana\n",
      "dtype: object\n"
     ]
    }
   ],
   "source": [
    "names=['Mamba','Levi','Alvin','Ten Hag','Onana']\n",
    "obj4=pd.Series(names)\n",
    "print(obj4)"
   ]
  },
  {
   "cell_type": "code",
   "execution_count": 5,
   "id": "ddd4d4f1-1b7c-47b9-ad4d-cc430c60681b",
   "metadata": {},
   "outputs": [
    {
     "name": "stdout",
     "output_type": "stream",
     "text": [
      "0    False\n",
      "1    False\n",
      "2    False\n",
      "3    False\n",
      "4    False\n",
      "dtype: bool\n"
     ]
    }
   ],
   "source": [
    "print(obj4.isnull())"
   ]
  },
  {
   "cell_type": "code",
   "execution_count": 6,
   "id": "58e0dd26-81de-4491-859c-47dc395532d8",
   "metadata": {},
   "outputs": [
    {
     "name": "stdout",
     "output_type": "stream",
     "text": [
      "0    True\n",
      "1    True\n",
      "2    True\n",
      "3    True\n",
      "4    True\n",
      "dtype: bool\n"
     ]
    }
   ],
   "source": [
    "print(obj4.notnull())"
   ]
  },
  {
   "cell_type": "code",
   "execution_count": 7,
   "id": "a24ba102-8e59-4df3-9960-5f061fd0eb59",
   "metadata": {},
   "outputs": [
    {
     "name": "stdout",
     "output_type": "stream",
     "text": [
      "Nairobi        10000\n",
      "Mombasa         5000\n",
      "Nakuru         15000\n",
      "Uasin Gishu    25000\n",
      "Homabay            0\n",
      "Name: counties, dtype: int64\n"
     ]
    }
   ],
   "source": [
    "obj3.name='counties'\n",
    "print(obj3)"
   ]
  },
  {
   "cell_type": "code",
   "execution_count": 8,
   "id": "541406b7-ff5a-4ac9-a5e5-9f71b429916b",
   "metadata": {},
   "outputs": [
    {
     "name": "stdout",
     "output_type": "stream",
     "text": [
      "county name\n",
      "Nairobi        10000\n",
      "Mombasa         5000\n",
      "Nakuru         15000\n",
      "Uasin Gishu    25000\n",
      "Homabay            0\n",
      "Name: counties, dtype: int64\n"
     ]
    }
   ],
   "source": [
    "obj3.index.name='county name'\n",
    "print(obj3)\n"
   ]
  },
  {
   "cell_type": "code",
   "execution_count": 9,
   "id": "10bb46f1-c3d5-49d8-9e6a-90e7269b5587",
   "metadata": {},
   "outputs": [],
   "source": [
    "Data ={'Student Name':['Mamba','Alvin','Levy','Amani','Sophie'],'Year of Birth':[1990,2004,1989,2006,2002],'Weight':[40.23,50.34,30.75,50.65,70]}"
   ]
  },
  {
   "cell_type": "code",
   "execution_count": null,
   "id": "a000b050-f15f-4a8e-bbad-f3a5fc081a96",
   "metadata": {},
   "outputs": [],
   "source": []
  }
 ],
 "metadata": {
  "kernelspec": {
   "display_name": "Python 3 (ipykernel)",
   "language": "python",
   "name": "python3"
  },
  "language_info": {
   "codemirror_mode": {
    "name": "ipython",
    "version": 3
   },
   "file_extension": ".py",
   "mimetype": "text/x-python",
   "name": "python",
   "nbconvert_exporter": "python",
   "pygments_lexer": "ipython3",
   "version": "3.12.7"
  }
 },
 "nbformat": 4,
 "nbformat_minor": 5
}
